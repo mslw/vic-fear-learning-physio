{
 "cells": [
  {
   "cell_type": "markdown",
   "metadata": {},
   "source": [
    "# Pretty plots\n",
    "\n",
    "This notebook loads raw data, does the grouping / averaging / etc and produces the publication-ready plots in 2 column version. The plots are essentially the same as the one column version, but are placed into subplots, with the figure size (190 mm width) and font sizes set to match the desired print size. Additionally, the dataframe operations are piped to make them more concise."
   ]
  },
  {
   "cell_type": "code",
   "execution_count": 1,
   "metadata": {},
   "outputs": [],
   "source": [
    "import os\n",
    "import pandas\n",
    "import seaborn\n",
    "import matplotlib.pyplot as plt"
   ]
  },
  {
   "cell_type": "code",
   "execution_count": 2,
   "metadata": {},
   "outputs": [],
   "source": [
    "import configparser\n",
    "config = configparser.ConfigParser()\n",
    "config.read('emocon_config.ini')\n",
    "BEHAV_DIR = config['DEFAULT']['BEHAV_DIR']"
   ]
  },
  {
   "cell_type": "code",
   "execution_count": 3,
   "metadata": {},
   "outputs": [],
   "source": [
    "# this may be helpful\n",
    "def replace_xticklabels(ax, rep_dict):\n",
    "    labels = [xtl.get_text() for xtl in ax.get_xticklabels()]\n",
    "    new_labels = []\n",
    "    for old_text in labels:\n",
    "        if old_text in rep_dict:\n",
    "            new_labels.append(rep_dict[old_text])\n",
    "        else:\n",
    "            new_labels.append(old_text)\n",
    "    ax.set_xticklabels(new_labels)"
   ]
  },
  {
   "cell_type": "code",
   "execution_count": 4,
   "metadata": {},
   "outputs": [],
   "source": [
    "my_rcparams = {\n",
    "    'figure.figsize': (7.48, 3.),  # 7.48 in = 190 mm, two-column width by elsevier standards\n",
    "    'xtick.labelsize': 9,\n",
    "    'ytick.labelsize': 9,\n",
    "    'font.size': 10,\n",
    "#    'figure.autolayout': True,\n",
    "    'axes.titlesize': 10,\n",
    "    'axes.labelsize': 9,\n",
    "    'lines.linewidth': 2,\n",
    "    'lines.markersize': 6,\n",
    "    'legend.fontsize': 7,\n",
    "#    'mathtext.fontset': 'stix',\n",
    "#    'font.family': 'STIXGeneral',\n",
    "    'font.family': 'sans-serif',\n",
    "}"
   ]
  },
  {
   "cell_type": "code",
   "execution_count": 5,
   "metadata": {},
   "outputs": [],
   "source": [
    "seaborn.set(style='white', rc=my_rcparams)"
   ]
  },
  {
   "cell_type": "markdown",
   "metadata": {},
   "source": [
    "## EMG"
   ]
  },
  {
   "cell_type": "code",
   "execution_count": 6,
   "metadata": {},
   "outputs": [],
   "source": [
    "data_path = os.path.join('out', 'stat_data', 'emg.pickle')\n",
    "emg = pandas.read_pickle(data_path)"
   ]
  },
  {
   "cell_type": "code",
   "execution_count": 7,
   "metadata": {},
   "outputs": [],
   "source": [
    "contingency = pandas.read_csv(os.path.join(BEHAV_DIR, 'contingency.csv'),\n",
    "                              index_col=0)\n",
    "contingency.contingency_known = contingency.contingency_known.astype(bool)"
   ]
  },
  {
   "cell_type": "markdown",
   "metadata": {},
   "source": [
    "Within-subject mean amplitudes, short-form dataframe"
   ]
  },
  {
   "cell_type": "code",
   "execution_count": 8,
   "metadata": {},
   "outputs": [],
   "source": [
    "emg_mean = (emg\n",
    "            .groupby(['code',  'stimulus'])\n",
    "            .amplitude\n",
    "            .mean()\n",
    "            .unstack()\n",
    "            .join(contingency, how='left')\n",
    "           )"
   ]
  },
  {
   "cell_type": "code",
   "execution_count": 9,
   "metadata": {},
   "outputs": [
    {
     "data": {
      "text/html": [
       "<div>\n",
       "<style scoped>\n",
       "    .dataframe tbody tr th:only-of-type {\n",
       "        vertical-align: middle;\n",
       "    }\n",
       "\n",
       "    .dataframe tbody tr th {\n",
       "        vertical-align: top;\n",
       "    }\n",
       "\n",
       "    .dataframe thead th {\n",
       "        text-align: right;\n",
       "    }\n",
       "</style>\n",
       "<table border=\"1\" class=\"dataframe\">\n",
       "  <thead>\n",
       "    <tr style=\"text-align: right;\">\n",
       "      <th></th>\n",
       "      <th>direct CS+</th>\n",
       "      <th>direct CS-</th>\n",
       "      <th>direct fix</th>\n",
       "      <th>obs CS+</th>\n",
       "      <th>obs CS-</th>\n",
       "      <th>obs fix</th>\n",
       "      <th>contingency_known</th>\n",
       "    </tr>\n",
       "    <tr>\n",
       "      <th>code</th>\n",
       "      <th></th>\n",
       "      <th></th>\n",
       "      <th></th>\n",
       "      <th></th>\n",
       "      <th></th>\n",
       "      <th></th>\n",
       "      <th></th>\n",
       "    </tr>\n",
       "  </thead>\n",
       "  <tbody>\n",
       "    <tr>\n",
       "      <th>BDKNVC</th>\n",
       "      <td>53.122290</td>\n",
       "      <td>57.948134</td>\n",
       "      <td>48.449187</td>\n",
       "      <td>50.861772</td>\n",
       "      <td>48.027018</td>\n",
       "      <td>46.351405</td>\n",
       "      <td>False</td>\n",
       "    </tr>\n",
       "    <tr>\n",
       "      <th>BKIXTF</th>\n",
       "      <td>51.632845</td>\n",
       "      <td>54.736945</td>\n",
       "      <td>57.637755</td>\n",
       "      <td>49.821544</td>\n",
       "      <td>48.181192</td>\n",
       "      <td>44.993491</td>\n",
       "      <td>False</td>\n",
       "    </tr>\n",
       "    <tr>\n",
       "      <th>CCCFRT</th>\n",
       "      <td>50.682422</td>\n",
       "      <td>54.946818</td>\n",
       "      <td>44.735609</td>\n",
       "      <td>51.042654</td>\n",
       "      <td>50.191199</td>\n",
       "      <td>48.583723</td>\n",
       "      <td>False</td>\n",
       "    </tr>\n",
       "    <tr>\n",
       "      <th>DLYXKI</th>\n",
       "      <td>53.590286</td>\n",
       "      <td>48.657150</td>\n",
       "      <td>55.564094</td>\n",
       "      <td>48.526125</td>\n",
       "      <td>47.086128</td>\n",
       "      <td>50.481982</td>\n",
       "      <td>False</td>\n",
       "    </tr>\n",
       "    <tr>\n",
       "      <th>DXIJNB</th>\n",
       "      <td>52.858753</td>\n",
       "      <td>51.811504</td>\n",
       "      <td>46.927188</td>\n",
       "      <td>50.506385</td>\n",
       "      <td>50.416151</td>\n",
       "      <td>48.278742</td>\n",
       "      <td>False</td>\n",
       "    </tr>\n",
       "  </tbody>\n",
       "</table>\n",
       "</div>"
      ],
      "text/plain": [
       "        direct CS+  direct CS-  direct fix    obs CS+    obs CS-    obs fix  \\\n",
       "code                                                                          \n",
       "BDKNVC   53.122290   57.948134   48.449187  50.861772  48.027018  46.351405   \n",
       "BKIXTF   51.632845   54.736945   57.637755  49.821544  48.181192  44.993491   \n",
       "CCCFRT   50.682422   54.946818   44.735609  51.042654  50.191199  48.583723   \n",
       "DLYXKI   53.590286   48.657150   55.564094  48.526125  47.086128  50.481982   \n",
       "DXIJNB   52.858753   51.811504   46.927188  50.506385  50.416151  48.278742   \n",
       "\n",
       "        contingency_known  \n",
       "code                       \n",
       "BDKNVC              False  \n",
       "BKIXTF              False  \n",
       "CCCFRT              False  \n",
       "DLYXKI              False  \n",
       "DXIJNB              False  "
      ]
     },
     "execution_count": 9,
     "metadata": {},
     "output_type": "execute_result"
    }
   ],
   "source": [
    "emg_mean.head()"
   ]
  },
  {
   "cell_type": "code",
   "execution_count": 10,
   "metadata": {},
   "outputs": [
    {
     "data": {
      "text/plain": [
       "(32, 7)"
      ]
     },
     "execution_count": 10,
     "metadata": {},
     "output_type": "execute_result"
    }
   ],
   "source": [
    "emg_mean.shape"
   ]
  },
  {
   "cell_type": "markdown",
   "metadata": {},
   "source": [
    "Convert the above to long-form for seaborn plots using hue"
   ]
  },
  {
   "cell_type": "code",
   "execution_count": 11,
   "metadata": {},
   "outputs": [],
   "source": [
    "emg_melted = (emg_mean\n",
    "              .reset_index()\n",
    "              .melt(\n",
    "                  id_vars=['code', 'contingency_known'],\n",
    "                  var_name='stimulus',\n",
    "                  value_name='amplitude')\n",
    "             )"
   ]
  },
  {
   "cell_type": "code",
   "execution_count": 12,
   "metadata": {},
   "outputs": [
    {
     "data": {
      "text/html": [
       "<div>\n",
       "<style scoped>\n",
       "    .dataframe tbody tr th:only-of-type {\n",
       "        vertical-align: middle;\n",
       "    }\n",
       "\n",
       "    .dataframe tbody tr th {\n",
       "        vertical-align: top;\n",
       "    }\n",
       "\n",
       "    .dataframe thead th {\n",
       "        text-align: right;\n",
       "    }\n",
       "</style>\n",
       "<table border=\"1\" class=\"dataframe\">\n",
       "  <thead>\n",
       "    <tr style=\"text-align: right;\">\n",
       "      <th></th>\n",
       "      <th>code</th>\n",
       "      <th>contingency_known</th>\n",
       "      <th>stimulus</th>\n",
       "      <th>amplitude</th>\n",
       "    </tr>\n",
       "  </thead>\n",
       "  <tbody>\n",
       "    <tr>\n",
       "      <th>0</th>\n",
       "      <td>BDKNVC</td>\n",
       "      <td>False</td>\n",
       "      <td>direct CS+</td>\n",
       "      <td>53.122290</td>\n",
       "    </tr>\n",
       "    <tr>\n",
       "      <th>1</th>\n",
       "      <td>BKIXTF</td>\n",
       "      <td>False</td>\n",
       "      <td>direct CS+</td>\n",
       "      <td>51.632845</td>\n",
       "    </tr>\n",
       "    <tr>\n",
       "      <th>2</th>\n",
       "      <td>CCCFRT</td>\n",
       "      <td>False</td>\n",
       "      <td>direct CS+</td>\n",
       "      <td>50.682422</td>\n",
       "    </tr>\n",
       "    <tr>\n",
       "      <th>3</th>\n",
       "      <td>DLYXKI</td>\n",
       "      <td>False</td>\n",
       "      <td>direct CS+</td>\n",
       "      <td>53.590286</td>\n",
       "    </tr>\n",
       "    <tr>\n",
       "      <th>4</th>\n",
       "      <td>DXIJNB</td>\n",
       "      <td>False</td>\n",
       "      <td>direct CS+</td>\n",
       "      <td>52.858753</td>\n",
       "    </tr>\n",
       "  </tbody>\n",
       "</table>\n",
       "</div>"
      ],
      "text/plain": [
       "     code  contingency_known    stimulus  amplitude\n",
       "0  BDKNVC              False  direct CS+  53.122290\n",
       "1  BKIXTF              False  direct CS+  51.632845\n",
       "2  CCCFRT              False  direct CS+  50.682422\n",
       "3  DLYXKI              False  direct CS+  53.590286\n",
       "4  DXIJNB              False  direct CS+  52.858753"
      ]
     },
     "execution_count": 12,
     "metadata": {},
     "output_type": "execute_result"
    }
   ],
   "source": [
    "emg_melted.head()"
   ]
  },
  {
   "cell_type": "code",
   "execution_count": 13,
   "metadata": {},
   "outputs": [],
   "source": [
    "my_order = ['obs CS+', 'obs CS-', 'obs fix', 'direct CS+', 'direct CS-', 'direct fix']"
   ]
  },
  {
   "cell_type": "code",
   "execution_count": 14,
   "metadata": {},
   "outputs": [],
   "source": [
    "pal_1 = seaborn.color_palette(['steelblue', 'gold', 'lightgray'])"
   ]
  },
  {
   "cell_type": "code",
   "execution_count": 15,
   "metadata": {},
   "outputs": [
    {
     "name": "stdout",
     "output_type": "stream",
     "text": [
      "7.48 3.0\n"
     ]
    },
    {
     "data": {
      "image/png": "[encoded data removed]",
      "text/plain": [
       "<Figure size 1122x450 with 2 Axes>"
      ]
     },
     "metadata": {},
     "output_type": "display_data"
    }
   ],
   "source": [
    "fig = plt.figure(dpi=150)\n",
    "ax1 = plt.subplot2grid((1,2), (0,0), colspan=1)\n",
    "ax2 = plt.subplot2grid((1,2), (0,1), colspan=1)\n",
    "\n",
    "# Plot the first boxplot\n",
    "seaborn.boxplot(ax=ax1, data=emg_mean, order=my_order, palette = pal_1, fliersize=4)\n",
    "ax1.set_ylabel('Startle magnitude (T-score)')\n",
    "ax1.axvline(2.5, color='gray', ls=':')\n",
    "ax1.set_title('a', loc='left')\n",
    "\n",
    "replace_xticklabels(ax1, {'direct CS+': 'dir CS+', 'direct CS-': 'dir CS-', 'direct fix': 'dir fix'})\n",
    "\n",
    "# Draw the brace\n",
    "ax1.hlines(67.5, 1, 4, color='gray')\n",
    "ax1.hlines([66.5, 66.5], [0, 3], [2, 5], color='gray')\n",
    "ax1.vlines([1, 4], 66.5, 67.5, color='gray')\n",
    "ax1.text(2.7, 67.5-0.2, '*', horizontalalignment='center', color='gray', fontsize=10)\n",
    "\n",
    "# Draw the lines\n",
    "ax1.hlines(60, 4.2, 4.8, color='gray')\n",
    "ax1.text(4.5, 60-0.15, '*', horizontalalignment='center', color='gray', fontsize=10)\n",
    "ax1.hlines(61.5, 3.2, 4.8, color='gray')\n",
    "ax1.text(4.5, 61.5-0.15, '*', horizontalalignment='center', color='gray', fontsize=10)\n",
    "ax1.set_xlabel('stimulus')\n",
    "\n",
    "\n",
    "# Plot the second boxplot\n",
    "seaborn.boxplot(ax=ax2,\n",
    "                data=emg_melted.query('stimulus.str.startswith(\"direct\")'),\n",
    "                x='contingency_known', y='amplitude', hue='stimulus',\n",
    "                palette=pal_1, fliersize=4,\n",
    "               )\n",
    "ax2.set_xlabel('contingency')\n",
    "ax2.set_ylabel('Startle magnitude (T-score)')\n",
    "ax2.set_title('b', loc='left')\n",
    "replace_xticklabels(ax2, {'True': 'aware', 'False': 'unaware'})\n",
    "\n",
    "# Draw the lines\n",
    "ax2.hlines(61, 1.05, 1.25, color='gray')\n",
    "ax2.text(1.15, 61.1, '#', horizontalalignment='center', verticalalignment='bottom', color='gray', fontsize=7)\n",
    "ax2.hlines(62.5, 0.77, 1.25, color='gray')\n",
    "ax2.text(1.15, 62.5, '*', horizontalalignment='center', color='gray', fontsize=10)\n",
    "ax2.legend(loc='lower left')\n",
    "\n",
    "fig.tight_layout()\n",
    "\n",
    "print(fig.get_figwidth(), fig.get_figheight())"
   ]
  },
  {
   "cell_type": "code",
   "execution_count": 16,
   "metadata": {},
   "outputs": [],
   "source": [
    "if not os.path.isdir('out/figures/pub'):\n",
    "    os.mkdir('out/figures/pub')\n",
    "fig.savefig('out/figures/pub/startle.png')"
   ]
  },
  {
   "cell_type": "code",
   "execution_count": 17,
   "metadata": {},
   "outputs": [],
   "source": [
    "#ax1.figure.savefig('/Users/michal/Desktop/plot.eps')"
   ]
  },
  {
   "cell_type": "markdown",
   "metadata": {},
   "source": [
    "## EDA"
   ]
  },
  {
   "cell_type": "code",
   "execution_count": 18,
   "metadata": {},
   "outputs": [],
   "source": [
    "data_path = os.path.join('out', 'stat_data', 'eda.pickle')\n",
    "df = pandas.read_pickle(data_path)"
   ]
  },
  {
   "cell_type": "code",
   "execution_count": 19,
   "metadata": {},
   "outputs": [],
   "source": [
    "# Replace nans with zeros\n",
    "dfz = df.fillna(value=0)"
   ]
  },
  {
   "cell_type": "code",
   "execution_count": 20,
   "metadata": {},
   "outputs": [],
   "source": [
    "eda_mean = (df\n",
    "            .fillna(value=0)\n",
    "            .groupby(['code',  'stimulus'])\n",
    "            .amplitude.mean()\n",
    "            .unstack()\n",
    "            .join(contingency, how='left')\n",
    "           )"
   ]
  },
  {
   "cell_type": "code",
   "execution_count": 21,
   "metadata": {},
   "outputs": [
    {
     "data": {
      "text/html": [
       "<div>\n",
       "<style scoped>\n",
       "    .dataframe tbody tr th:only-of-type {\n",
       "        vertical-align: middle;\n",
       "    }\n",
       "\n",
       "    .dataframe tbody tr th {\n",
       "        vertical-align: top;\n",
       "    }\n",
       "\n",
       "    .dataframe thead th {\n",
       "        text-align: right;\n",
       "    }\n",
       "</style>\n",
       "<table border=\"1\" class=\"dataframe\">\n",
       "  <thead>\n",
       "    <tr style=\"text-align: right;\">\n",
       "      <th></th>\n",
       "      <th>direct CS+</th>\n",
       "      <th>direct CS-</th>\n",
       "      <th>obs CS+</th>\n",
       "      <th>obs CS-</th>\n",
       "      <th>obs US absent</th>\n",
       "      <th>obs US present</th>\n",
       "      <th>contingency_known</th>\n",
       "    </tr>\n",
       "    <tr>\n",
       "      <th>code</th>\n",
       "      <th></th>\n",
       "      <th></th>\n",
       "      <th></th>\n",
       "      <th></th>\n",
       "      <th></th>\n",
       "      <th></th>\n",
       "      <th></th>\n",
       "    </tr>\n",
       "  </thead>\n",
       "  <tbody>\n",
       "    <tr>\n",
       "      <th>BDKNVC</th>\n",
       "      <td>0.065267</td>\n",
       "      <td>0.041473</td>\n",
       "      <td>0.071568</td>\n",
       "      <td>0.037846</td>\n",
       "      <td>0.016097</td>\n",
       "      <td>0.110232</td>\n",
       "      <td>False</td>\n",
       "    </tr>\n",
       "    <tr>\n",
       "      <th>CCCFRT</th>\n",
       "      <td>0.059477</td>\n",
       "      <td>0.066935</td>\n",
       "      <td>0.100087</td>\n",
       "      <td>0.162599</td>\n",
       "      <td>0.093659</td>\n",
       "      <td>0.081801</td>\n",
       "      <td>False</td>\n",
       "    </tr>\n",
       "    <tr>\n",
       "      <th>CSSIEB</th>\n",
       "      <td>0.037792</td>\n",
       "      <td>0.161456</td>\n",
       "      <td>0.089512</td>\n",
       "      <td>0.087098</td>\n",
       "      <td>0.123457</td>\n",
       "      <td>0.253569</td>\n",
       "      <td>False</td>\n",
       "    </tr>\n",
       "    <tr>\n",
       "      <th>DLYXKI</th>\n",
       "      <td>0.049786</td>\n",
       "      <td>0.107779</td>\n",
       "      <td>0.008219</td>\n",
       "      <td>0.028236</td>\n",
       "      <td>0.000000</td>\n",
       "      <td>0.131711</td>\n",
       "      <td>False</td>\n",
       "    </tr>\n",
       "    <tr>\n",
       "      <th>DXIJNB</th>\n",
       "      <td>0.112979</td>\n",
       "      <td>0.082707</td>\n",
       "      <td>0.035466</td>\n",
       "      <td>0.023129</td>\n",
       "      <td>0.000000</td>\n",
       "      <td>0.037535</td>\n",
       "      <td>False</td>\n",
       "    </tr>\n",
       "  </tbody>\n",
       "</table>\n",
       "</div>"
      ],
      "text/plain": [
       "        direct CS+  direct CS-   obs CS+   obs CS-  obs US absent  \\\n",
       "code                                                                \n",
       "BDKNVC    0.065267    0.041473  0.071568  0.037846       0.016097   \n",
       "CCCFRT    0.059477    0.066935  0.100087  0.162599       0.093659   \n",
       "CSSIEB    0.037792    0.161456  0.089512  0.087098       0.123457   \n",
       "DLYXKI    0.049786    0.107779  0.008219  0.028236       0.000000   \n",
       "DXIJNB    0.112979    0.082707  0.035466  0.023129       0.000000   \n",
       "\n",
       "        obs US present  contingency_known  \n",
       "code                                       \n",
       "BDKNVC        0.110232              False  \n",
       "CCCFRT        0.081801              False  \n",
       "CSSIEB        0.253569              False  \n",
       "DLYXKI        0.131711              False  \n",
       "DXIJNB        0.037535              False  "
      ]
     },
     "execution_count": 21,
     "metadata": {},
     "output_type": "execute_result"
    }
   ],
   "source": [
    "eda_mean.head()"
   ]
  },
  {
   "cell_type": "code",
   "execution_count": 22,
   "metadata": {},
   "outputs": [
    {
     "data": {
      "text/plain": [
       "(32, 7)"
      ]
     },
     "execution_count": 22,
     "metadata": {},
     "output_type": "execute_result"
    }
   ],
   "source": [
    "eda_mean.shape"
   ]
  },
  {
   "cell_type": "code",
   "execution_count": 23,
   "metadata": {},
   "outputs": [
    {
     "data": {
      "text/html": [
       "<div>\n",
       "<style scoped>\n",
       "    .dataframe tbody tr th:only-of-type {\n",
       "        vertical-align: middle;\n",
       "    }\n",
       "\n",
       "    .dataframe tbody tr th {\n",
       "        vertical-align: top;\n",
       "    }\n",
       "\n",
       "    .dataframe thead th {\n",
       "        text-align: right;\n",
       "    }\n",
       "</style>\n",
       "<table border=\"1\" class=\"dataframe\">\n",
       "  <thead>\n",
       "    <tr style=\"text-align: right;\">\n",
       "      <th></th>\n",
       "      <th>code</th>\n",
       "      <th>contingency_known</th>\n",
       "      <th>stimulus</th>\n",
       "      <th>amplitude</th>\n",
       "    </tr>\n",
       "  </thead>\n",
       "  <tbody>\n",
       "    <tr>\n",
       "      <th>0</th>\n",
       "      <td>BDKNVC</td>\n",
       "      <td>False</td>\n",
       "      <td>direct CS+</td>\n",
       "      <td>0.065267</td>\n",
       "    </tr>\n",
       "    <tr>\n",
       "      <th>1</th>\n",
       "      <td>CCCFRT</td>\n",
       "      <td>False</td>\n",
       "      <td>direct CS+</td>\n",
       "      <td>0.059477</td>\n",
       "    </tr>\n",
       "    <tr>\n",
       "      <th>2</th>\n",
       "      <td>CSSIEB</td>\n",
       "      <td>False</td>\n",
       "      <td>direct CS+</td>\n",
       "      <td>0.037792</td>\n",
       "    </tr>\n",
       "    <tr>\n",
       "      <th>3</th>\n",
       "      <td>DLYXKI</td>\n",
       "      <td>False</td>\n",
       "      <td>direct CS+</td>\n",
       "      <td>0.049786</td>\n",
       "    </tr>\n",
       "    <tr>\n",
       "      <th>4</th>\n",
       "      <td>DXIJNB</td>\n",
       "      <td>False</td>\n",
       "      <td>direct CS+</td>\n",
       "      <td>0.112979</td>\n",
       "    </tr>\n",
       "  </tbody>\n",
       "</table>\n",
       "</div>"
      ],
      "text/plain": [
       "     code  contingency_known    stimulus  amplitude\n",
       "0  BDKNVC              False  direct CS+   0.065267\n",
       "1  CCCFRT              False  direct CS+   0.059477\n",
       "2  CSSIEB              False  direct CS+   0.037792\n",
       "3  DLYXKI              False  direct CS+   0.049786\n",
       "4  DXIJNB              False  direct CS+   0.112979"
      ]
     },
     "execution_count": 23,
     "metadata": {},
     "output_type": "execute_result"
    }
   ],
   "source": [
    "eda_melted = (eda_mean\n",
    "              .reset_index()\n",
    "              .melt(\n",
    "                  id_vars=['code', 'contingency_known'],\n",
    "                  var_name='stimulus',\n",
    "                  value_name='amplitude')\n",
    "             )\n",
    "eda_melted.head()"
   ]
  },
  {
   "cell_type": "code",
   "execution_count": 24,
   "metadata": {},
   "outputs": [],
   "source": [
    "my_order_eda = ['obs CS+', 'obs CS-', 'obs US present', 'obs US absent', 'direct CS+', 'direct CS-']\n",
    "pal_2 = seaborn.color_palette(['steelblue', 'gold'])\n",
    "pal_3 = seaborn.color_palette([(196/255, 46/255, 74/255), (61/255, 125/255, 90/255)], desat=1)\n",
    "pal_combined = pal_2 + pal_3 + pal_2"
   ]
  },
  {
   "cell_type": "code",
   "execution_count": 25,
   "metadata": {},
   "outputs": [
    {
     "data": {
      "image/png": "[encoded data removed]",
      "text/plain": [
       "<Figure size 1122x450 with 2 Axes>"
      ]
     },
     "metadata": {},
     "output_type": "display_data"
    }
   ],
   "source": [
    "fig2 = plt.figure(dpi=150)\n",
    "\n",
    "ax3 = plt.subplot2grid((1,2), (0,0), colspan=1)\n",
    "ax4 = plt.subplot2grid((1,2), (0,1), colspan=1)\n",
    "\n",
    "# First boxplot\n",
    "seaborn.boxplot(ax=ax3, data=eda_mean, order=my_order_eda, palette=pal_combined, fliersize=2)\n",
    "ax3.axvline(3.5, color='gray', ls=':')\n",
    "ax3.set_ylabel('Mean magnitude')\n",
    "ax3.set_title('a', loc='left')\n",
    "\n",
    "replace_xticklabels(ax3, {'direct CS+': 'dir CS+', 'direct CS-': 'dir CS-',\n",
    "                         'obs US present': 'obs US', 'obs US absent': 'no US'})\n",
    "#plt.setp(ax3.get_xticklabels(), rotation=30)\n",
    "ax3.set_xlabel('stimulus')\n",
    "ax3.set_ylabel('$\\log(1 + \\mathrm{SCR/SCR_{max}})$')\n",
    "\n",
    "# Draw the line\n",
    "ax3.hlines(0.25, 2.2, 2.8, color='gray')\n",
    "ax3.text(2.5, 0.25, '*', horizontalalignment='center', verticalalignment='bottom', color='gray', fontsize=10)\n",
    "\n",
    "\n",
    "# Second boxplot\n",
    "seaborn.boxplot(ax=ax4,\n",
    "                data=eda_melted.query('stimulus.str.startswith(\"direct\")'),\n",
    "                x='contingency_known', y='amplitude', hue='stimulus',\n",
    "                palette=pal_2, fliersize=2,\n",
    "               )\n",
    "ax4.set_xlabel('contingency')\n",
    "ax4.set_ylabel('$\\log(1 + \\mathrm{SCR/SCR_{max}})$')\n",
    "ax4.set_title('b', loc='left')\n",
    "replace_xticklabels(ax4, {'True': 'aware', 'False': 'unaware'})\n",
    "\n",
    "# Draw the lines\n",
    "ax4.hlines(0.21, -0.15, 0.75, color='gray')\n",
    "ax4.text(0.3, 0.21, '*', horizontalalignment='center', verticalalignment='bottom', color='gray', fontsize=10)\n",
    "ax4.hlines(0.15, 0.85, 1.15, color='gray')\n",
    "ax4.text(1, 0.15, '*', horizontalalignment='center', verticalalignment='bottom', color='gray', fontsize=10)\n",
    "\n",
    "fig2.tight_layout()"
   ]
  },
  {
   "cell_type": "code",
   "execution_count": 26,
   "metadata": {},
   "outputs": [],
   "source": [
    "fig2.savefig('out/figures/pub/eda.png')"
   ]
  },
  {
   "cell_type": "code",
   "execution_count": null,
   "metadata": {},
   "outputs": [],
   "source": []
  }
 ],
 "metadata": {
  "kernelspec": {
   "display_name": "Python 3",
   "language": "python",
   "name": "python3"
  },
  "language_info": {
   "codemirror_mode": {
    "name": "ipython",
    "version": 3
   },
   "file_extension": ".py",
   "mimetype": "text/x-python",
   "name": "python",
   "nbconvert_exporter": "python",
   "pygments_lexer": "ipython3",
   "version": "3.7.7"
  }
 },
 "nbformat": 4,
 "nbformat_minor": 2
}
